{
 "cells": [
  {
   "cell_type": "markdown",
   "metadata": {},
   "source": [
    "# Social auth"
   ]
  },
  {
   "cell_type": "code",
   "execution_count": 2,
   "metadata": {},
   "outputs": [],
   "source": [
    "import spotipy\n",
    "from datetime import datetime, timedelta\n",
    "from social_django.utils import load_strategy"
   ]
  },
  {
   "cell_type": "code",
   "execution_count": 20,
   "metadata": {},
   "outputs": [],
   "source": [
    "def get_spotipy(social):\n",
    "    expired_time = datetime.fromtimestamp(social.extra_data['auth_time']) + timedelta(minutes=30)\n",
    "    if expired_time < datetime.now():\n",
    "        social.refresh_token(load_strategy())\n",
    "\n",
    "    access_token = social.get_access_token(load_strategy())\n",
    "    sp = spotipy.Spotify(auth=access_token)\n",
    "    return sp"
   ]
  },
  {
   "cell_type": "code",
   "execution_count": 25,
   "metadata": {},
   "outputs": [],
   "source": [
    "def insert_tracks(tracks, user):\n",
    "    for track_dic in tracks[::-1]:\n",
    "        track = Track(\n",
    "            track_id=track_dic['track']['id'],\n",
    "            name=track_dic['track']['name'], \n",
    "            artist_id=track_dic['track']['artists'][0]['id'],\n",
    "            artist_name=track_dic['track']['artists'][0]['name'],\n",
    "            album_id=track_dic['track']['album']['id'],\n",
    "            album_name=track_dic['track']['album']['name'],\n",
    "            popularity=track_dic['track']['popularity'],\n",
    "            url=track_dic['track']['href'],\n",
    "            preview_url=track_dic['track']['preview_url'],\n",
    "            release_date=track_dic['track']['album']['release_date'],\n",
    "            played_at=track_dic['played_at'],\n",
    "            user=user\n",
    "        )\n",
    "        track.save()"
   ]
  },
  {
   "cell_type": "code",
   "execution_count": 26,
   "metadata": {},
   "outputs": [],
   "source": [
    "for user in User.objects.all():\n",
    "    if user.social_auth.exists():\n",
    "        social = user.social_auth.get(provider='spotify')\n",
    "        sp = get_spotipy(social)\n",
    "        if Track.objects.filter(user=user).exists():\n",
    "            latest = Track.objects.filter(user=user).order_by('-played_at')[0]\n",
    "            tracks = sp.current_user_recently_played(after=int(latest.played_at.timestamp() * 1000))['items']\n",
    "        else:\n",
    "            tracks = sp.current_user_recently_played()['items']\n",
    "        insert_tracks(tracks, user)"
   ]
  },
  {
   "cell_type": "code",
   "execution_count": 27,
   "metadata": {},
   "outputs": [],
   "source": [
    "# me = User.objects.get(username=\"21bpmv7tcs4av5sakwfxkof2a\")\n",
    "# social = me.social_auth.get(provider='spotify')"
   ]
  },
  {
   "cell_type": "code",
   "execution_count": 31,
   "metadata": {},
   "outputs": [],
   "source": []
  },
  {
   "cell_type": "code",
   "execution_count": 32,
   "metadata": {},
   "outputs": [
    {
     "data": {
      "text/plain": [
       "{'country': 'JP',\n",
       " 'display_name': 'Yutaro Ikeda',\n",
       " 'email': 'ikeda.yutaro@gmail.com',\n",
       " 'explicit_content': {'filter_enabled': False, 'filter_locked': False},\n",
       " 'external_urls': {'spotify': 'https://open.spotify.com/user/21bpmv7tcs4av5sakwfxkof2a'},\n",
       " 'followers': {'href': None, 'total': 9},\n",
       " 'href': 'https://api.spotify.com/v1/users/21bpmv7tcs4av5sakwfxkof2a',\n",
       " 'id': '21bpmv7tcs4av5sakwfxkof2a',\n",
       " 'images': [{'height': None,\n",
       "   'url': 'https://platform-lookaside.fbsbx.com/platform/profilepic/?asid=629148017161705&height=300&width=300&ext=1593986408&hash=AeQYY0sX7Q_CTlvQ',\n",
       "   'width': None}],\n",
       " 'product': 'premium',\n",
       " 'type': 'user',\n",
       " 'uri': 'spotify:user:21bpmv7tcs4av5sakwfxkof2a'}"
      ]
     },
     "execution_count": 32,
     "metadata": {},
     "output_type": "execute_result"
    }
   ],
   "source": [
    "access_token = social.get_access_token(load_strategy())\n",
    "sp = spotipy.Spotify(auth=access_token)\n",
    "sp.current_user()"
   ]
  },
  {
   "cell_type": "code",
   "execution_count": 7,
   "metadata": {},
   "outputs": [],
   "source": [
    "sp.currently_playing()"
   ]
  },
  {
   "cell_type": "code",
   "execution_count": 8,
   "metadata": {},
   "outputs": [],
   "source": [
    "tracks = sp.current_user_recently_played()"
   ]
  },
  {
   "cell_type": "code",
   "execution_count": 9,
   "metadata": {},
   "outputs": [
    {
     "data": {
      "text/plain": [
       "dict_keys(['track', 'played_at', 'context'])"
      ]
     },
     "execution_count": 9,
     "metadata": {},
     "output_type": "execute_result"
    }
   ],
   "source": [
    "tracks['items'][0].keys()"
   ]
  },
  {
   "cell_type": "code",
   "execution_count": 10,
   "metadata": {},
   "outputs": [
    {
     "data": {
      "text/plain": [
       "'2020-06-04T11:28:50.645Z'"
      ]
     },
     "execution_count": 10,
     "metadata": {},
     "output_type": "execute_result"
    }
   ],
   "source": [
    "tracks['items'][0]['played_at']"
   ]
  },
  {
   "cell_type": "code",
   "execution_count": 11,
   "metadata": {},
   "outputs": [
    {
     "data": {
      "text/plain": [
       "{'external_urls': {'spotify': 'https://open.spotify.com/artist/4AGNJdJiVltImYk1UTLE0K'},\n",
       " 'href': 'https://api.spotify.com/v1/artists/4AGNJdJiVltImYk1UTLE0K',\n",
       " 'type': 'artist',\n",
       " 'uri': 'spotify:artist:4AGNJdJiVltImYk1UTLE0K'}"
      ]
     },
     "execution_count": 11,
     "metadata": {},
     "output_type": "execute_result"
    }
   ],
   "source": [
    "tracks['items'][0]['context']"
   ]
  },
  {
   "cell_type": "code",
   "execution_count": 12,
   "metadata": {},
   "outputs": [
    {
     "data": {
      "text/plain": [
       "dict_keys(['album', 'artists', 'available_markets', 'disc_number', 'duration_ms', 'explicit', 'external_ids', 'external_urls', 'href', 'id', 'is_local', 'name', 'popularity', 'preview_url', 'track_number', 'type', 'uri'])"
      ]
     },
     "execution_count": 12,
     "metadata": {},
     "output_type": "execute_result"
    }
   ],
   "source": [
    "track = tracks['items'][0]['track']\n",
    "track.keys()"
   ]
  },
  {
   "cell_type": "code",
   "execution_count": 13,
   "metadata": {},
   "outputs": [
    {
     "data": {
      "text/plain": [
       "dict_keys(['album_type', 'artists', 'available_markets', 'external_urls', 'href', 'id', 'images', 'name', 'release_date', 'release_date_precision', 'total_tracks', 'type', 'uri'])"
      ]
     },
     "execution_count": 13,
     "metadata": {},
     "output_type": "execute_result"
    }
   ],
   "source": [
    "track['album'].keys()"
   ]
  },
  {
   "cell_type": "code",
   "execution_count": 14,
   "metadata": {},
   "outputs": [
    {
     "data": {
      "text/plain": [
       "'https://i.scdn.co/image/ab67616d0000b273acd8242f2e56f9b7be5d4246'"
      ]
     },
     "execution_count": 14,
     "metadata": {},
     "output_type": "execute_result"
    }
   ],
   "source": [
    "track['album']['images'][0]['url']"
   ]
  },
  {
   "cell_type": "code",
   "execution_count": 15,
   "metadata": {},
   "outputs": [
    {
     "data": {
      "text/plain": [
       "['Dina',\n",
       " 'Feels Like Magic',\n",
       " 'You Are the Right One',\n",
       " \"People Can't Stop Chillin'\",\n",
       " 'Whatever You Want',\n",
       " \"Gotta Know Better (I'm Crazy)\",\n",
       " \"Takin' a Cruise\",\n",
       " \"Drivin' on by You\",\n",
       " 'Manicure',\n",
       " \"Someone You'd Rather Be Dating\"]"
      ]
     },
     "execution_count": 15,
     "metadata": {},
     "output_type": "execute_result"
    }
   ],
   "source": [
    "[track['track']['name'] for track in tracks['items']][:10]"
   ]
  },
  {
   "cell_type": "code",
   "execution_count": 16,
   "metadata": {},
   "outputs": [],
   "source": [
    "#     name =  models.TextField(max_length=128)\n",
    "#     artist_name =  models.TextField(max_length=128)\n",
    "#     album_name =  models.TextField(max_length=128)\n",
    "#     popularity = models.IntegerField()\n",
    "#     url = models.URLField()\n",
    "#     preview_url = models.URLField()\n",
    "#     release_date = models.DateField()\n",
    "#     played_at = models.DateTimeField()\n",
    "#     added_at = models.DateTimeField(default=timezone.now)\n",
    "#     user = models.ForeignKey(User, on_delete=models.CASCADE)"
   ]
  },
  {
   "cell_type": "code",
   "execution_count": 17,
   "metadata": {},
   "outputs": [],
   "source": [
    "for track_dic in tracks['items']:\n",
    "    break"
   ]
  },
  {
   "cell_type": "code",
   "execution_count": 18,
   "metadata": {},
   "outputs": [
    {
     "data": {
      "text/plain": [
       "{'external_urls': {'spotify': 'https://open.spotify.com/artist/4AGNJdJiVltImYk1UTLE0K'},\n",
       " 'href': 'https://api.spotify.com/v1/artists/4AGNJdJiVltImYk1UTLE0K',\n",
       " 'id': '4AGNJdJiVltImYk1UTLE0K',\n",
       " 'name': 'Sports',\n",
       " 'type': 'artist',\n",
       " 'uri': 'spotify:artist:4AGNJdJiVltImYk1UTLE0K'}"
      ]
     },
     "execution_count": 18,
     "metadata": {},
     "output_type": "execute_result"
    }
   ],
   "source": [
    "track_dic['track']['artists'][0]"
   ]
  },
  {
   "cell_type": "code",
   "execution_count": 19,
   "metadata": {},
   "outputs": [
    {
     "data": {
      "text/plain": [
       "'5mzRPtsvAzLBqyYtjH6gMs'"
      ]
     },
     "execution_count": 19,
     "metadata": {},
     "output_type": "execute_result"
    }
   ],
   "source": [
    "track_dic['track']['album']['id']"
   ]
  },
  {
   "cell_type": "code",
   "execution_count": 20,
   "metadata": {},
   "outputs": [
    {
     "data": {
      "text/plain": [
       "'Naked All the Time'"
      ]
     },
     "execution_count": 20,
     "metadata": {},
     "output_type": "execute_result"
    }
   ],
   "source": [
    "track_dic['track']['album']['name']"
   ]
  },
  {
   "cell_type": "code",
   "execution_count": 21,
   "metadata": {},
   "outputs": [
    {
     "data": {
      "text/plain": [
       "'Dina'"
      ]
     },
     "execution_count": 21,
     "metadata": {},
     "output_type": "execute_result"
    }
   ],
   "source": [
    "track_dic['track']['name']"
   ]
  },
  {
   "cell_type": "code",
   "execution_count": 22,
   "metadata": {},
   "outputs": [
    {
     "data": {
      "text/plain": [
       "34"
      ]
     },
     "execution_count": 22,
     "metadata": {},
     "output_type": "execute_result"
    }
   ],
   "source": [
    "track_dic['track']['popularity']"
   ]
  },
  {
   "cell_type": "code",
   "execution_count": 23,
   "metadata": {
    "scrolled": true
   },
   "outputs": [
    {
     "data": {
      "text/plain": [
       "'https://api.spotify.com/v1/tracks/6h8902K3bu35UpmS0x5GBU'"
      ]
     },
     "execution_count": 23,
     "metadata": {},
     "output_type": "execute_result"
    }
   ],
   "source": [
    "track_dic['track']['href']"
   ]
  },
  {
   "cell_type": "code",
   "execution_count": 24,
   "metadata": {
    "scrolled": true
   },
   "outputs": [],
   "source": [
    "track = Track(\n",
    "    track_id=track_dic['track']['id'],\n",
    "    name=track_dic['track']['name'], \n",
    "    aartist_id=track_dic['track']['artists'][0]['id'],\n",
    "    artist_name=track_dic['track']['artists'][0]['name'],\n",
    "    album_id=track_dic['track']['album']['id'],\n",
    "    album_name=track_dic['track']['album']['name'],\n",
    "    popularity=track_dic['track']['popularity'],\n",
    "    url=track_dic['track']['href'],\n",
    "    preview_url=track_dic['track']['preview_url'],\n",
    "    release_date=track_dic['track']['album']['release_date'],\n",
    "    played_at=track_dic['played_at'],\n",
    "    user=me\n",
    ")"
   ]
  },
  {
   "cell_type": "code",
   "execution_count": 26,
   "metadata": {},
   "outputs": [],
   "source": [
    "track.save()"
   ]
  },
  {
   "cell_type": "code",
   "execution_count": 28,
   "metadata": {},
   "outputs": [
    {
     "data": {
      "text/plain": [
       "'2020-06-04T11:28:50.645Z'"
      ]
     },
     "execution_count": 28,
     "metadata": {},
     "output_type": "execute_result"
    }
   ],
   "source": [
    "track_dic['played_at']"
   ]
  },
  {
   "cell_type": "code",
   "execution_count": 76,
   "metadata": {},
   "outputs": [],
   "source": [
    "def insert_tracks(tracks):\n",
    "    for track_dic in tracks[::-1]:\n",
    "        track = Track(\n",
    "            track_id=track_dic['track']['id'],\n",
    "            name=track_dic['track']['name'], \n",
    "            aartist_id=track_dic['track']['artists'][0]['id'],\n",
    "            artist_name=track_dic['track']['artists'][0]['name'],\n",
    "            album_id=track_dic['track']['album']['id'],\n",
    "            album_name=track_dic['track']['album']['name'],\n",
    "            popularity=track_dic['track']['popularity'],\n",
    "            url=track_dic['track']['href'],\n",
    "            preview_url=track_dic['track']['preview_url'],\n",
    "            release_date=track_dic['track']['album']['release_date'],\n",
    "            played_at=track_dic['played_at'],\n",
    "            user=me\n",
    "        )\n",
    "        track.save()"
   ]
  },
  {
   "cell_type": "code",
   "execution_count": 95,
   "metadata": {},
   "outputs": [
    {
     "name": "stdout",
     "output_type": "stream",
     "text": [
      "0\n"
     ]
    }
   ],
   "source": [
    "if Track.objects.filter(user=me).exists():\n",
    "    latest = Track.objects.filter(user=me).order_by('-played_at')[0]\n",
    "    tracks = sp.current_user_recently_played(after=int(latest.played_at.timestamp() * 1000))['items']\n",
    "else:\n",
    "    tracks = sp.current_user_recently_played()['items']\n",
    "insert_tracks(tracks)"
   ]
  }
 ],
 "metadata": {
  "kernelspec": {
   "display_name": "Django Shell-Plus",
   "language": "python",
   "name": "django_extensions"
  },
  "language_info": {
   "codemirror_mode": {
    "name": "ipython",
    "version": 3
   },
   "file_extension": ".py",
   "mimetype": "text/x-python",
   "name": "python",
   "nbconvert_exporter": "python",
   "pygments_lexer": "ipython3",
   "version": "3.7.4"
  }
 },
 "nbformat": 4,
 "nbformat_minor": 4
}
