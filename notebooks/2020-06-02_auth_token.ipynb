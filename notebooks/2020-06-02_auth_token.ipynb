{
 "cells": [
  {
   "cell_type": "markdown",
   "metadata": {},
   "source": [
    "# Social auth"
   ]
  },
  {
   "cell_type": "code",
   "execution_count": 1,
   "metadata": {},
   "outputs": [],
   "source": [
    "import spotipy\n",
    "from datetime import datetime, timedelta\n",
    "from social_django.utils import load_strategy"
   ]
  },
  {
   "cell_type": "code",
   "execution_count": 2,
   "metadata": {},
   "outputs": [],
   "source": [
    "def get_spotipy(social):\n",
    "    expired_time = datetime.fromtimestamp(social.extra_data['auth_time']) + timedelta(minutes=30)\n",
    "    if expired_time < datetime.now():\n",
    "        social.refresh_token(load_strategy())\n",
    "\n",
    "    access_token = social.get_access_token(load_strategy())\n",
    "    sp = spotipy.Spotify(auth=access_token)\n",
    "    return sp"
   ]
  },
  {
   "cell_type": "code",
   "execution_count": 3,
   "metadata": {},
   "outputs": [],
   "source": [
    "def insert_tracks(tracks, user):\n",
    "    for track_dic in tracks[::-1]:\n",
    "        track = Track(\n",
    "            track_id=track_dic['track']['id'],\n",
    "            name=track_dic['track']['name'], \n",
    "            artist_id=track_dic['track']['artists'][0]['id'],\n",
    "            artist_name=track_dic['track']['artists'][0]['name'],\n",
    "            album_id=track_dic['track']['album']['id'],\n",
    "            album_name=track_dic['track']['album']['name'],\n",
    "            popularity=track_dic['track']['popularity'],\n",
    "            url=track_dic['track']['href'],\n",
    "            preview_url=track_dic['track']['preview_url'],\n",
    "            release_date=track_dic['track']['album']['release_date'],\n",
    "            played_at=track_dic['played_at'],\n",
    "            user=user\n",
    "        )\n",
    "        track.save()"
   ]
  },
  {
   "cell_type": "code",
   "execution_count": 4,
   "metadata": {},
   "outputs": [],
   "source": [
    "for user in User.objects.all():\n",
    "    if user.social_auth.exists():\n",
    "        social = user.social_auth.get(provider='spotify')\n",
    "        sp = get_spotipy(social)\n",
    "        if Track.objects.filter(user=user).exists():\n",
    "            latest = Track.objects.filter(user=user).order_by('-played_at')[0]\n",
    "            tracks = sp.current_user_recently_played(after=int(latest.played_at.timestamp() * 1000))['items']\n",
    "        else:\n",
    "            tracks = sp.current_user_recently_played()['items']\n",
    "        insert_tracks(tracks, user)"
   ]
  },
  {
   "cell_type": "code",
   "execution_count": 5,
   "metadata": {},
   "outputs": [
    {
     "data": {
      "text/plain": [
       "{'country': 'JP',\n",
       " 'display_name': 'Yutaro Ikeda',\n",
       " 'email': 'ikeda.yutaro@gmail.com',\n",
       " 'explicit_content': {'filter_enabled': False, 'filter_locked': False},\n",
       " 'external_urls': {'spotify': 'https://open.spotify.com/user/21bpmv7tcs4av5sakwfxkof2a'},\n",
       " 'followers': {'href': None, 'total': 9},\n",
       " 'href': 'https://api.spotify.com/v1/users/21bpmv7tcs4av5sakwfxkof2a',\n",
       " 'id': '21bpmv7tcs4av5sakwfxkof2a',\n",
       " 'images': [{'height': None,\n",
       "   'url': 'https://platform-lookaside.fbsbx.com/platform/profilepic/?asid=629148017161705&height=300&width=300&ext=1594692008&hash=AeTlgP0DKFK3e3pA',\n",
       "   'width': None}],\n",
       " 'product': 'premium',\n",
       " 'type': 'user',\n",
       " 'uri': 'spotify:user:21bpmv7tcs4av5sakwfxkof2a'}"
      ]
     },
     "execution_count": 5,
     "metadata": {},
     "output_type": "execute_result"
    }
   ],
   "source": [
    "access_token = social.get_access_token(load_strategy())\n",
    "sp = spotipy.Spotify(auth=access_token)\n",
    "sp.current_user()"
   ]
  },
  {
   "cell_type": "code",
   "execution_count": 6,
   "metadata": {},
   "outputs": [
    {
     "data": {
      "text/plain": [
       "{'timestamp': 1592129289360,\n",
       " 'context': {'external_urls': {'spotify': 'https://open.spotify.com/playlist/37i9dQZEVXbhLB2jTD1vFq'},\n",
       "  'href': 'https://api.spotify.com/v1/playlists/37i9dQZEVXbhLB2jTD1vFq',\n",
       "  'type': 'playlist',\n",
       "  'uri': 'spotify:user:spotify:playlist:37i9dQZEVXbhLB2jTD1vFq'},\n",
       " 'progress_ms': 83382,\n",
       " 'item': {'album': {'album_type': 'album',\n",
       "   'artists': [{'external_urls': {'spotify': 'https://open.spotify.com/artist/06s35sbFfZJUEwFjAaZfiW'},\n",
       "     'href': 'https://api.spotify.com/v1/artists/06s35sbFfZJUEwFjAaZfiW',\n",
       "     'id': '06s35sbFfZJUEwFjAaZfiW',\n",
       "     'name': 'Cookin Soul',\n",
       "     'type': 'artist',\n",
       "     'uri': 'spotify:artist:06s35sbFfZJUEwFjAaZfiW'}],\n",
       "   'available_markets': ['AD',\n",
       "    'AE',\n",
       "    'AR',\n",
       "    'AT',\n",
       "    'AU',\n",
       "    'BE',\n",
       "    'BG',\n",
       "    'BH',\n",
       "    'BO',\n",
       "    'BR',\n",
       "    'CA',\n",
       "    'CH',\n",
       "    'CL',\n",
       "    'CO',\n",
       "    'CR',\n",
       "    'CY',\n",
       "    'CZ',\n",
       "    'DE',\n",
       "    'DK',\n",
       "    'DO',\n",
       "    'DZ',\n",
       "    'EC',\n",
       "    'EE',\n",
       "    'EG',\n",
       "    'ES',\n",
       "    'FI',\n",
       "    'FR',\n",
       "    'GB',\n",
       "    'GR',\n",
       "    'GT',\n",
       "    'HK',\n",
       "    'HN',\n",
       "    'HU',\n",
       "    'ID',\n",
       "    'IE',\n",
       "    'IL',\n",
       "    'IN',\n",
       "    'IS',\n",
       "    'IT',\n",
       "    'JO',\n",
       "    'JP',\n",
       "    'KW',\n",
       "    'LB',\n",
       "    'LI',\n",
       "    'LT',\n",
       "    'LU',\n",
       "    'LV',\n",
       "    'MA',\n",
       "    'MC',\n",
       "    'MT',\n",
       "    'MX',\n",
       "    'MY',\n",
       "    'NI',\n",
       "    'NL',\n",
       "    'NO',\n",
       "    'NZ',\n",
       "    'OM',\n",
       "    'PA',\n",
       "    'PE',\n",
       "    'PH',\n",
       "    'PL',\n",
       "    'PS',\n",
       "    'PT',\n",
       "    'PY',\n",
       "    'QA',\n",
       "    'RO',\n",
       "    'SA',\n",
       "    'SE',\n",
       "    'SG',\n",
       "    'SK',\n",
       "    'SV',\n",
       "    'TH',\n",
       "    'TN',\n",
       "    'TR',\n",
       "    'TW',\n",
       "    'US',\n",
       "    'UY',\n",
       "    'VN',\n",
       "    'ZA'],\n",
       "   'external_urls': {'spotify': 'https://open.spotify.com/album/2fqrB2RIltFZZkJ48SJXa9'},\n",
       "   'href': 'https://api.spotify.com/v1/albums/2fqrB2RIltFZZkJ48SJXa9',\n",
       "   'id': '2fqrB2RIltFZZkJ48SJXa9',\n",
       "   'images': [{'height': 640,\n",
       "     'url': 'https://i.scdn.co/image/ab67616d0000b27386d857515e38fa9cf4e43bcb',\n",
       "     'width': 640},\n",
       "    {'height': 300,\n",
       "     'url': 'https://i.scdn.co/image/ab67616d00001e0286d857515e38fa9cf4e43bcb',\n",
       "     'width': 300},\n",
       "    {'height': 64,\n",
       "     'url': 'https://i.scdn.co/image/ab67616d0000485186d857515e38fa9cf4e43bcb',\n",
       "     'width': 64}],\n",
       "   'name': 'Whateva, Vol. 3',\n",
       "   'release_date': '2020-06-09',\n",
       "   'release_date_precision': 'day',\n",
       "   'total_tracks': 10,\n",
       "   'type': 'album',\n",
       "   'uri': 'spotify:album:2fqrB2RIltFZZkJ48SJXa9'},\n",
       "  'artists': [{'external_urls': {'spotify': 'https://open.spotify.com/artist/06s35sbFfZJUEwFjAaZfiW'},\n",
       "    'href': 'https://api.spotify.com/v1/artists/06s35sbFfZJUEwFjAaZfiW',\n",
       "    'id': '06s35sbFfZJUEwFjAaZfiW',\n",
       "    'name': 'Cookin Soul',\n",
       "    'type': 'artist',\n",
       "    'uri': 'spotify:artist:06s35sbFfZJUEwFjAaZfiW'}],\n",
       "  'available_markets': ['AD',\n",
       "   'AE',\n",
       "   'AR',\n",
       "   'AT',\n",
       "   'AU',\n",
       "   'BE',\n",
       "   'BG',\n",
       "   'BH',\n",
       "   'BO',\n",
       "   'BR',\n",
       "   'CA',\n",
       "   'CH',\n",
       "   'CL',\n",
       "   'CO',\n",
       "   'CR',\n",
       "   'CY',\n",
       "   'CZ',\n",
       "   'DE',\n",
       "   'DK',\n",
       "   'DO',\n",
       "   'DZ',\n",
       "   'EC',\n",
       "   'EE',\n",
       "   'EG',\n",
       "   'ES',\n",
       "   'FI',\n",
       "   'FR',\n",
       "   'GB',\n",
       "   'GR',\n",
       "   'GT',\n",
       "   'HK',\n",
       "   'HN',\n",
       "   'HU',\n",
       "   'ID',\n",
       "   'IE',\n",
       "   'IL',\n",
       "   'IN',\n",
       "   'IS',\n",
       "   'IT',\n",
       "   'JO',\n",
       "   'JP',\n",
       "   'KW',\n",
       "   'LB',\n",
       "   'LI',\n",
       "   'LT',\n",
       "   'LU',\n",
       "   'LV',\n",
       "   'MA',\n",
       "   'MC',\n",
       "   'MT',\n",
       "   'MX',\n",
       "   'MY',\n",
       "   'NI',\n",
       "   'NL',\n",
       "   'NO',\n",
       "   'NZ',\n",
       "   'OM',\n",
       "   'PA',\n",
       "   'PE',\n",
       "   'PH',\n",
       "   'PL',\n",
       "   'PS',\n",
       "   'PT',\n",
       "   'PY',\n",
       "   'QA',\n",
       "   'RO',\n",
       "   'SA',\n",
       "   'SE',\n",
       "   'SG',\n",
       "   'SK',\n",
       "   'SV',\n",
       "   'TH',\n",
       "   'TN',\n",
       "   'TR',\n",
       "   'TW',\n",
       "   'US',\n",
       "   'UY',\n",
       "   'VN',\n",
       "   'ZA'],\n",
       "  'disc_number': 1,\n",
       "  'duration_ms': 106046,\n",
       "  'explicit': True,\n",
       "  'external_ids': {'isrc': 'QZHN42077993'},\n",
       "  'external_urls': {'spotify': 'https://open.spotify.com/track/56Y4m4gHrRnnEm3fXRgGQf'},\n",
       "  'href': 'https://api.spotify.com/v1/tracks/56Y4m4gHrRnnEm3fXRgGQf',\n",
       "  'id': '56Y4m4gHrRnnEm3fXRgGQf',\n",
       "  'is_local': False,\n",
       "  'name': 'Bada$$ Savior',\n",
       "  'popularity': 21,\n",
       "  'preview_url': 'https://p.scdn.co/mp3-preview/f7d624cdd83c4edff19a35ab5d576be32a9ef597?cid=ef4a759c86c4416891495b2d24b06221',\n",
       "  'track_number': 2,\n",
       "  'type': 'track',\n",
       "  'uri': 'spotify:track:56Y4m4gHrRnnEm3fXRgGQf'},\n",
       " 'currently_playing_type': 'track',\n",
       " 'actions': {'disallows': {'resuming': True, 'skipping_prev': True}},\n",
       " 'is_playing': True}"
      ]
     },
     "execution_count": 6,
     "metadata": {},
     "output_type": "execute_result"
    }
   ],
   "source": [
    "sp.currently_playing()"
   ]
  },
  {
   "cell_type": "code",
   "execution_count": 7,
   "metadata": {},
   "outputs": [],
   "source": [
    "tracks = sp.current_user_recently_played()"
   ]
  },
  {
   "cell_type": "code",
   "execution_count": 8,
   "metadata": {},
   "outputs": [
    {
     "data": {
      "text/plain": [
       "dict_keys(['track', 'played_at', 'context'])"
      ]
     },
     "execution_count": 8,
     "metadata": {},
     "output_type": "execute_result"
    }
   ],
   "source": [
    "tracks['items'][0].keys()"
   ]
  },
  {
   "cell_type": "code",
   "execution_count": 9,
   "metadata": {},
   "outputs": [
    {
     "data": {
      "text/plain": [
       "'2020-06-14T09:52:56.343Z'"
      ]
     },
     "execution_count": 9,
     "metadata": {},
     "output_type": "execute_result"
    }
   ],
   "source": [
    "tracks['items'][0]['played_at']"
   ]
  },
  {
   "cell_type": "code",
   "execution_count": 10,
   "metadata": {},
   "outputs": [
    {
     "data": {
      "text/plain": [
       "{'external_urls': {'spotify': 'https://open.spotify.com/playlist/37i9dQZEVXbhLB2jTD1vFq'},\n",
       " 'href': 'https://api.spotify.com/v1/playlists/37i9dQZEVXbhLB2jTD1vFq',\n",
       " 'type': 'playlist',\n",
       " 'uri': 'spotify:playlist:37i9dQZEVXbhLB2jTD1vFq'}"
      ]
     },
     "execution_count": 10,
     "metadata": {},
     "output_type": "execute_result"
    }
   ],
   "source": [
    "tracks['items'][0]['context']"
   ]
  },
  {
   "cell_type": "code",
   "execution_count": 11,
   "metadata": {},
   "outputs": [
    {
     "data": {
      "text/plain": [
       "dict_keys(['album', 'artists', 'available_markets', 'disc_number', 'duration_ms', 'explicit', 'external_ids', 'external_urls', 'href', 'id', 'is_local', 'name', 'popularity', 'preview_url', 'track_number', 'type', 'uri'])"
      ]
     },
     "execution_count": 11,
     "metadata": {},
     "output_type": "execute_result"
    }
   ],
   "source": [
    "track = tracks['items'][0]['track']\n",
    "track.keys()"
   ]
  },
  {
   "cell_type": "code",
   "execution_count": 12,
   "metadata": {},
   "outputs": [
    {
     "data": {
      "text/plain": [
       "dict_keys(['album_type', 'artists', 'available_markets', 'external_urls', 'href', 'id', 'images', 'name', 'release_date', 'release_date_precision', 'total_tracks', 'type', 'uri'])"
      ]
     },
     "execution_count": 12,
     "metadata": {},
     "output_type": "execute_result"
    }
   ],
   "source": [
    "track['album'].keys()"
   ]
  },
  {
   "cell_type": "code",
   "execution_count": 13,
   "metadata": {},
   "outputs": [
    {
     "data": {
      "text/plain": [
       "'https://i.scdn.co/image/ab67616d0000b2735d3084ae51310ccb21ea7fa2'"
      ]
     },
     "execution_count": 13,
     "metadata": {},
     "output_type": "execute_result"
    }
   ],
   "source": [
    "track['album']['images'][0]['url']"
   ]
  },
  {
   "cell_type": "code",
   "execution_count": 15,
   "metadata": {},
   "outputs": [
    {
     "data": {
      "text/plain": [
       "['Dina',\n",
       " 'Feels Like Magic',\n",
       " 'You Are the Right One',\n",
       " \"People Can't Stop Chillin'\",\n",
       " 'Whatever You Want',\n",
       " \"Gotta Know Better (I'm Crazy)\",\n",
       " \"Takin' a Cruise\",\n",
       " \"Drivin' on by You\",\n",
       " 'Manicure',\n",
       " \"Someone You'd Rather Be Dating\"]"
      ]
     },
     "execution_count": 15,
     "metadata": {},
     "output_type": "execute_result"
    }
   ],
   "source": [
    "[track['track']['name'] for track in tracks['items']][:10]"
   ]
  },
  {
   "cell_type": "code",
   "execution_count": 16,
   "metadata": {},
   "outputs": [],
   "source": [
    "#     name =  models.TextField(max_length=128)\n",
    "#     artist_name =  models.TextField(max_length=128)\n",
    "#     album_name =  models.TextField(max_length=128)\n",
    "#     popularity = models.IntegerField()\n",
    "#     url = models.URLField()\n",
    "#     preview_url = models.URLField()\n",
    "#     release_date = models.DateField()\n",
    "#     played_at = models.DateTimeField()\n",
    "#     added_at = models.DateTimeField(default=timezone.now)\n",
    "#     user = models.ForeignKey(User, on_delete=models.CASCADE)"
   ]
  },
  {
   "cell_type": "code",
   "execution_count": 17,
   "metadata": {},
   "outputs": [],
   "source": [
    "for track_dic in tracks['items']:\n",
    "    break"
   ]
  },
  {
   "cell_type": "code",
   "execution_count": 18,
   "metadata": {},
   "outputs": [
    {
     "data": {
      "text/plain": [
       "{'external_urls': {'spotify': 'https://open.spotify.com/artist/4AGNJdJiVltImYk1UTLE0K'},\n",
       " 'href': 'https://api.spotify.com/v1/artists/4AGNJdJiVltImYk1UTLE0K',\n",
       " 'id': '4AGNJdJiVltImYk1UTLE0K',\n",
       " 'name': 'Sports',\n",
       " 'type': 'artist',\n",
       " 'uri': 'spotify:artist:4AGNJdJiVltImYk1UTLE0K'}"
      ]
     },
     "execution_count": 18,
     "metadata": {},
     "output_type": "execute_result"
    }
   ],
   "source": [
    "track_dic['track']['artists'][0]"
   ]
  },
  {
   "cell_type": "code",
   "execution_count": 19,
   "metadata": {},
   "outputs": [
    {
     "data": {
      "text/plain": [
       "'5mzRPtsvAzLBqyYtjH6gMs'"
      ]
     },
     "execution_count": 19,
     "metadata": {},
     "output_type": "execute_result"
    }
   ],
   "source": [
    "track_dic['track']['album']['id']"
   ]
  },
  {
   "cell_type": "code",
   "execution_count": 20,
   "metadata": {},
   "outputs": [
    {
     "data": {
      "text/plain": [
       "'Naked All the Time'"
      ]
     },
     "execution_count": 20,
     "metadata": {},
     "output_type": "execute_result"
    }
   ],
   "source": [
    "track_dic['track']['album']['name']"
   ]
  },
  {
   "cell_type": "code",
   "execution_count": 21,
   "metadata": {},
   "outputs": [
    {
     "data": {
      "text/plain": [
       "'Dina'"
      ]
     },
     "execution_count": 21,
     "metadata": {},
     "output_type": "execute_result"
    }
   ],
   "source": [
    "track_dic['track']['name']"
   ]
  },
  {
   "cell_type": "code",
   "execution_count": 22,
   "metadata": {},
   "outputs": [
    {
     "data": {
      "text/plain": [
       "34"
      ]
     },
     "execution_count": 22,
     "metadata": {},
     "output_type": "execute_result"
    }
   ],
   "source": [
    "track_dic['track']['popularity']"
   ]
  },
  {
   "cell_type": "code",
   "execution_count": 23,
   "metadata": {
    "scrolled": true
   },
   "outputs": [
    {
     "data": {
      "text/plain": [
       "'https://api.spotify.com/v1/tracks/6h8902K3bu35UpmS0x5GBU'"
      ]
     },
     "execution_count": 23,
     "metadata": {},
     "output_type": "execute_result"
    }
   ],
   "source": [
    "track_dic['track']['href']"
   ]
  },
  {
   "cell_type": "code",
   "execution_count": 24,
   "metadata": {
    "scrolled": true
   },
   "outputs": [],
   "source": [
    "track = Track(\n",
    "    track_id=track_dic['track']['id'],\n",
    "    name=track_dic['track']['name'], \n",
    "    aartist_id=track_dic['track']['artists'][0]['id'],\n",
    "    artist_name=track_dic['track']['artists'][0]['name'],\n",
    "    album_id=track_dic['track']['album']['id'],\n",
    "    album_name=track_dic['track']['album']['name'],\n",
    "    popularity=track_dic['track']['popularity'],\n",
    "    url=track_dic['track']['href'],\n",
    "    preview_url=track_dic['track']['preview_url'],\n",
    "    release_date=track_dic['track']['album']['release_date'],\n",
    "    played_at=track_dic['played_at'],\n",
    "    user=me\n",
    ")"
   ]
  },
  {
   "cell_type": "code",
   "execution_count": 26,
   "metadata": {},
   "outputs": [],
   "source": [
    "track.save()"
   ]
  },
  {
   "cell_type": "code",
   "execution_count": 28,
   "metadata": {},
   "outputs": [
    {
     "data": {
      "text/plain": [
       "'2020-06-04T11:28:50.645Z'"
      ]
     },
     "execution_count": 28,
     "metadata": {},
     "output_type": "execute_result"
    }
   ],
   "source": [
    "track_dic['played_at']"
   ]
  },
  {
   "cell_type": "code",
   "execution_count": 76,
   "metadata": {},
   "outputs": [],
   "source": [
    "def insert_tracks(tracks):\n",
    "    for track_dic in tracks[::-1]:\n",
    "        track = Track(\n",
    "            track_id=track_dic['track']['id'],\n",
    "            name=track_dic['track']['name'], \n",
    "            aartist_id=track_dic['track']['artists'][0]['id'],\n",
    "            artist_name=track_dic['track']['artists'][0]['name'],\n",
    "            album_id=track_dic['track']['album']['id'],\n",
    "            album_name=track_dic['track']['album']['name'],\n",
    "            popularity=track_dic['track']['popularity'],\n",
    "            url=track_dic['track']['href'],\n",
    "            preview_url=track_dic['track']['preview_url'],\n",
    "            release_date=track_dic['track']['album']['release_date'],\n",
    "            played_at=track_dic['played_at'],\n",
    "            user=me\n",
    "        )\n",
    "        track.save()"
   ]
  },
  {
   "cell_type": "code",
   "execution_count": 95,
   "metadata": {},
   "outputs": [
    {
     "name": "stdout",
     "output_type": "stream",
     "text": [
      "0\n"
     ]
    }
   ],
   "source": [
    "if Track.objects.filter(user=me).exists():\n",
    "    latest = Track.objects.filter(user=me).order_by('-played_at')[0]\n",
    "    tracks = sp.current_user_recently_played(after=int(latest.played_at.timestamp() * 1000))['items']\n",
    "else:\n",
    "    tracks = sp.current_user_recently_played()['items']\n",
    "insert_tracks(tracks)"
   ]
  }
 ],
 "metadata": {
  "kernelspec": {
   "display_name": "Django Shell-Plus",
   "language": "python",
   "name": "django_extensions"
  },
  "language_info": {
   "codemirror_mode": {
    "name": "ipython",
    "version": 3
   },
   "file_extension": ".py",
   "mimetype": "text/x-python",
   "name": "python",
   "nbconvert_exporter": "python",
   "pygments_lexer": "ipython3",
   "version": "3.8.2"
  }
 },
 "nbformat": 4,
 "nbformat_minor": 4
}
