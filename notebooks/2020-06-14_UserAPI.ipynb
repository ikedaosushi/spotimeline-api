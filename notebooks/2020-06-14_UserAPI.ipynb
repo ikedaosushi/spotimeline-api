{
 "cells": [
  {
   "cell_type": "code",
   "execution_count": 16,
   "metadata": {},
   "outputs": [],
   "source": [
    "from datetime import datetime, timedelta\n",
    "\n",
    "from django.contrib.auth.models import User\n",
    "from social_django.utils import load_strategy\n",
    "import spotipy"
   ]
  },
  {
   "cell_type": "code",
   "execution_count": 2,
   "metadata": {},
   "outputs": [
    {
     "data": {
      "text/plain": [
       "<QuerySet [<User: admin>, <User: ikedayutaro1>]>"
      ]
     },
     "execution_count": 2,
     "metadata": {},
     "output_type": "execute_result"
    }
   ],
   "source": [
    "User.objects.all()"
   ]
  },
  {
   "cell_type": "code",
   "execution_count": 6,
   "metadata": {},
   "outputs": [],
   "source": [
    "user = User.objects.get(username=\"ikedayutaro1\")"
   ]
  },
  {
   "cell_type": "code",
   "execution_count": 8,
   "metadata": {},
   "outputs": [],
   "source": [
    "def get_spotipy(social):\n",
    "    expired_time = datetime.fromtimestamp(social.extra_data['auth_time']) + timedelta(minutes=30)\n",
    "    if expired_time < datetime.now():\n",
    "        social.refresh_token(load_strategy())\n",
    "\n",
    "    access_token = social.get_access_token(load_strategy())\n",
    "    sp = spotipy.Spotify(auth=access_token)\n",
    "    return sp"
   ]
  },
  {
   "cell_type": "code",
   "execution_count": 17,
   "metadata": {},
   "outputs": [],
   "source": [
    "social = user.social_auth.get(provider='spotify')\n",
    "sp = get_spotipy(social)"
   ]
  },
  {
   "cell_type": "code",
   "execution_count": null,
   "metadata": {},
   "outputs": [
    {
     "data": {
      "text/plain": [
       "{'country': 'JP',\n",
       " 'display_name': 'Yutaro Ikeda',\n",
       " 'email': 'ikeda.yutaro@gmail.com',\n",
       " 'explicit_content': {'filter_enabled': False, 'filter_locked': False},\n",
       " 'external_urls': {'spotify': 'https://open.spotify.com/user/21bpmv7tcs4av5sakwfxkof2a'},\n",
       " 'followers': {'href': None, 'total': 9},\n",
       " 'href': 'https://api.spotify.com/v1/users/21bpmv7tcs4av5sakwfxkof2a',\n",
       " 'id': '21bpmv7tcs4av5sakwfxkof2a',\n",
       " 'images': [{'height': None,\n",
       "   'url': 'https://platform-lookaside.fbsbx.com/platform/profilepic/?asid=629148017161705&height=300&width=300&ext=1594692008&hash=AeTlgP0DKFK3e3pA',\n",
       "   'width': None}],\n",
       " 'product': 'premium',\n",
       " 'type': 'user',\n",
       " 'uri': 'spotify:user:21bpmv7tcs4av5sakwfxkof2a'}"
      ]
     },
     "execution_count": 19,
     "metadata": {},
     "output_type": "execute_result"
    }
   ],
   "source": [
    "sp.current_user()"
   ]
  }
 ],
 "metadata": {
  "kernelspec": {
   "display_name": "Django Shell-Plus",
   "language": "python",
   "name": "django_extensions"
  },
  "language_info": {
   "codemirror_mode": {
    "name": "ipython",
    "version": 3
   },
   "file_extension": ".py",
   "mimetype": "text/x-python",
   "name": "python",
   "nbconvert_exporter": "python",
   "pygments_lexer": "ipython3",
   "version": "3.8.2"
  }
 },
 "nbformat": 4,
 "nbformat_minor": 4
}
